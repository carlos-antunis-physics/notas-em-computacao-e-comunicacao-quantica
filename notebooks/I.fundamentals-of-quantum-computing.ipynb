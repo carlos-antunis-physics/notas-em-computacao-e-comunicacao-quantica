{
 "cells": [
  {
   "cell_type": "markdown",
   "id": "f70d0510",
   "metadata": {},
   "source": [
    "<div align=\"center\">\n",
    "    <h2>Fundamentos de computação quântica</h2>\n",
    "    <a href=\"https://github.com/carlos-antunis-physics\">Carlos Antunis Bonfim da Silva Santos</a>\n",
    "</div>"
   ]
  },
  {
   "cell_type": "markdown",
   "id": "73c236b7",
   "metadata": {},
   "source": [
    "###     Modelos clássicos de computação"
   ]
  },
  {
   "cell_type": "markdown",
   "id": "03c11d40",
   "metadata": {},
   "source": [
    "####    Circuitos lógicos clássicos"
   ]
  },
  {
   "cell_type": "markdown",
   "id": "ae3e58b2",
   "metadata": {},
   "source": [
    "###     Modelos quânticos de computação"
   ]
  },
  {
   "cell_type": "markdown",
   "id": "957f8e49",
   "metadata": {},
   "source": [
    "####    Circuitos lógicos quânticos"
   ]
  },
  {
   "cell_type": "markdown",
   "id": "ab871a44",
   "metadata": {},
   "source": [
    "###     Análise de eficiência de algoritmos"
   ]
  },
  {
   "cell_type": "markdown",
   "id": "7c9e7a5c",
   "metadata": {},
   "source": [
    "###\n",
    "\n",
    "<div align=\"center\">\n",
    "\n",
    "[![under construction image](https://raw.githubusercontent.com/carlos-antunis-physics/carlos-antunis-physics/refs/heads/main/assets/under-construction.png)](#---)\n",
    "\n",
    "</div>"
   ]
  },
  {
   "cell_type": "markdown",
   "id": "3efe5164",
   "metadata": {},
   "source": [
    "###\n",
    "---\n",
    "\n",
    "<div align=\"right\">\n",
    "\n",
    "[Voltar à página inicial](../README.md)\n",
    "\n",
    "</div>"
   ]
  }
 ],
 "metadata": {
  "kernelspec": {
   "display_name": "Julia 1.11.5",
   "language": "julia",
   "name": "julia-1.11"
  },
  "language_info": {
   "name": "julia"
  }
 },
 "nbformat": 4,
 "nbformat_minor": 5
}
