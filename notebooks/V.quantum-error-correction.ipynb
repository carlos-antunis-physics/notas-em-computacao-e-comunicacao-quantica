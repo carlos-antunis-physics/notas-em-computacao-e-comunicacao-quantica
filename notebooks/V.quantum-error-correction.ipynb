{
 "cells": [
  {
   "cell_type": "markdown",
   "id": "f092450e",
   "metadata": {},
   "source": [
    "<div align=\"center\">\n",
    "    <h2>Correção quântica de erros</h2>\n",
    "    <a href=\"https://github.com/carlos-antunis-physics\">Carlos Antunis Bonfim da Silva Santos</a>\n",
    "</div>"
   ]
  },
  {
   "cell_type": "markdown",
   "id": "d7d05ba5",
   "metadata": {},
   "source": [
    "###\n",
    "\n",
    "<div align=\"center\">\n",
    "\n",
    "[![under construction image](https://raw.githubusercontent.com/carlos-antunis-physics/carlos-antunis-physics/refs/heads/main/assets/under-construction.png)](#---)\n",
    "\n",
    "</div>"
   ]
  },
  {
   "cell_type": "markdown",
   "id": "7ce70f51",
   "metadata": {},
   "source": [
    "###\n",
    "---\n",
    "\n",
    "<div align=\"right\">\n",
    "\n",
    "[Voltar à página inicial](../README.md)\n",
    "\n",
    "</div>"
   ]
  }
 ],
 "metadata": {
  "language_info": {
   "name": "python"
  }
 },
 "nbformat": 4,
 "nbformat_minor": 5
}
