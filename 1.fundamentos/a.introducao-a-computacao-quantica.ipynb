{
 "cells": [
  {
   "cell_type": "markdown",
   "id": "7e85a591",
   "metadata": {},
   "source": [
    "#   Introdução à computação quântica\n",
    "\n",
    ">   **Autor:** Carlos Antunis Bonfim da Silva Santos\n",
    ">\n",
    ">   > Nesta seção iremos descrever os processos clássicos de computação, apresentando a seguir os postulados da mecânica quântica e o comportamento de sistemas quânticos de dois níveis, bem como composições de tais sistemas, ademais aos fenômenos quânticos de superposição, interferência e emaranhamento."
   ]
  },
  {
   "cell_type": "markdown",
   "id": "01096a46",
   "metadata": {},
   "source": [
    "##  Aspectos quânticos da natureza"
   ]
  },
  {
   "cell_type": "markdown",
   "id": "f54be724",
   "metadata": {},
   "source": []
  },
  {
   "cell_type": "markdown",
   "id": "5c2f418f",
   "metadata": {},
   "source": [
    "##  Bits clássicos e quânticos"
   ]
  },
  {
   "cell_type": "markdown",
   "id": "ad7edbd2",
   "metadata": {},
   "source": []
  },
  {
   "cell_type": "markdown",
   "id": "b394f078",
   "metadata": {},
   "source": [
    "##  \n",
    "\n",
    "<div align=\"center\">\n",
    "\n",
    "![under construction](../under-construction.png)\n",
    "\n",
    "</div>"
   ]
  },
  {
   "cell_type": "markdown",
   "id": "09797f65",
   "metadata": {},
   "source": [
    "##  Referências\n",
    "\n",
    "[1] *Nielsen, Michael A., e Isaac L. Chuang.* **Quantum computation and quantum information.**\n",
    "\n",
    "[2] *Bouwmeester, Dirk, e Anton Zeilinger.* **The physics of quantum information: basic concepts.**\n",
    "\n",
    "---\n",
    "\n",
    "<div align=\"right\">\n",
    "\n",
    "[voltar ao sumário](./README.md)\n",
    "\n",
    "</div>\n"
   ]
  }
 ],
 "metadata": {
  "language_info": {
   "name": "python"
  }
 },
 "nbformat": 4,
 "nbformat_minor": 5
}
