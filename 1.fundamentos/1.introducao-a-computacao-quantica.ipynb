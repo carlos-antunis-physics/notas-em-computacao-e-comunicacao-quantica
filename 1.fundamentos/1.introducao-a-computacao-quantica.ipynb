{
 "cells": [
  {
   "cell_type": "markdown",
   "id": "7e85a591",
   "metadata": {},
   "source": [
    "#   Introdução à computação quântica\n",
    "\n",
    ">   Autor: [Carlos Antunis Bonfim da Silva Santos](https://github.com/carlos-antunis-physics/)"
   ]
  },
  {
   "cell_type": "markdown",
   "id": "5c2f418f",
   "metadata": {},
   "source": [
    "##  Bits clássicos e quânticos"
   ]
  },
  {
   "cell_type": "markdown",
   "id": "ad7edbd2",
   "metadata": {},
   "source": []
  },
  {
   "cell_type": "markdown",
   "id": "b394f078",
   "metadata": {},
   "source": [
    "##  \n",
    "\n",
    "<div align=\"center\">\n",
    "\n",
    "![under construction](../under-construction.png)\n",
    "\n",
    "</div>"
   ]
  },
  {
   "cell_type": "markdown",
   "id": "09797f65",
   "metadata": {},
   "source": [
    "##  Referências\n",
    "\n",
    "[1] *Nielsen, Michael A., e Isaac L. Chuang.* **Quantum computation and quantum information.**\n",
    "\n",
    "[2] *Bouwmeester, Dirk, e Anton Zeilinger.* **The physics of quantum information: basic concepts.**\n",
    "\n",
    "---\n",
    "\n",
    "<div align=\"right\">\n",
    "\n",
    "[voltar ao sumário](./README.md)\n",
    "\n",
    "</div>\n"
   ]
  }
 ],
 "metadata": {
  "language_info": {
   "name": "python"
  }
 },
 "nbformat": 4,
 "nbformat_minor": 5
}
