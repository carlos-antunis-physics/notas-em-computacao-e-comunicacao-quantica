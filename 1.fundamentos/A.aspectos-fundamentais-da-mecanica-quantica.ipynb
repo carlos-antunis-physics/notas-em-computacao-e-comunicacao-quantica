{
 "cells": [
  {
   "cell_type": "markdown",
   "id": "7801f509",
   "metadata": {},
   "source": [
    "#   Aspectos fundamentais da mecânica quântica\n",
    "\n",
    ">   Autor: [Carlos Antunis Bonfim da Silva Santos](https://github.com/carlos-antunis-physics/)"
   ]
  },
  {
   "cell_type": "markdown",
   "id": "d7477791",
   "metadata": {},
   "source": [
    "##  Descrição de estados quânticos"
   ]
  },
  {
   "cell_type": "markdown",
   "id": "ddc966da",
   "metadata": {},
   "source": [
    "Distintamente ao que estamos acostumados em nosso cotidiano, no regime quântico a natureza apresenta certo borbulhar de possibilidades e é necessária extrema cautela caso se almeje verdadeiramente aplicar nossa intuição para entender a física em tal extremo. Deve-se entender claramente e primeiramente que a natureza nem sempre segue o que se intui macroscopicamente, a exemplo, no mundo macroscópico uma partícula não pode estar com comportamentos distintos em simultâneo, não obstante, tal estranheza é o que mais ocorre no limite microscópico.\n",
    "\n",
    "Necessitamos utilizar um formalismo matemático suficientemente potente para, mesmo ante este bizarro comportamento do regime quântico, descrever os fenômenos neste limite. Tal estrutura matemática que utilizamos para descrever o abstrato comportamento de fenômenos quânticos é a álgebra linear em conjunto a alguns postulados, requisições sobre a descrição de um sistema quântico que ainda se parecem analogas ao que intuimos classicamente - servindo como um análogo às leis de Newton neste limite."
   ]
  },
  {
   "cell_type": "markdown",
   "id": "98ec86c9",
   "metadata": {},
   "source": [
    "### Estado de um sistema quântico num tempo fixado\n",
    "\n",
    "A primeira requisição para a utilização do formalismo da teoria quântica é a capacidade de descrevermos o estado em que um ente físico está, por mais que este se apresente indeterminado (possa estar em dois distintos estados em simultâneo).\n",
    "\n",
    ">   **Primeiro postulado da mecânica quântica.** O estado de um sistema quântico isolado pode ser descrito, a todo tempo fixado, por meio de um vetor de estado $\\left|\\Psi\\right>$ que pertence a um espaço de Hilbert $\\mathcal{E}$ denominado espaço de estados."
   ]
  },
  {
   "cell_type": "markdown",
   "id": "374a02b9",
   "metadata": {},
   "source": [
    "Os exemplos mais simples de espaços de estados são aqueles com dois níveis (os que são usualmente utilizados no contexto da computação quântica).\n",
    "\n",
    ">   **Exemplo 1.** O espaço de estados associado à polarização de um fóton é gerado por $\\left|\\leftrightarrow\\right>$ (estar polarizado horizontalmente) ou $\\left|\\updownarrow\\right>$ (estar polarizado verticalmente), ou seja,\n",
    ">   \n",
    ">   $$\n",
    ">       \\left|\\Psi\\right> = \\alpha\\left|\\leftrightarrow\\right> + \\beta\\left|\\updownarrow\\right>\\text{,}\n",
    ">   $$\n",
    ">\n",
    ">   de modo que lê-se \"o estado do fóton é polarizado horizontalmente com uma amplitude de probabilidade $\\alpha$ ou verticalmente com uma amplitude de probabilidade $\\beta$\" (note que a operação de adição de estados atua como um \"ou\" no sentido da lógica-matemática).\n",
    "\n",
    "Deve-se notar que $\\alpha$ e $\\beta$ não representam verdadeiramente a probabilidade, dado que são componentes pertencentes ao corpo dos números complexos (outra peculiaridade advinda da natureza quântica), sendo a probabilidade de fato o módulo quadrado dessas componentes ($|\\alpha|^2$ e $|\\beta|^2$)."
   ]
  },
  {
   "cell_type": "markdown",
   "id": "ecceab3a",
   "metadata": {},
   "source": [
    "####    Espaço dual"
   ]
  },
  {
   "cell_type": "markdown",
   "id": "3fec60e9",
   "metadata": {},
   "source": [
    "Como um espaço de Hilbert, todo espaço de estados possui uma operação binária $\\left<\\ast|\\ast\\right>$ denominada produto interno.\n",
    "\n",
    ">   **definição (produto interno).** dado um espaço de estados $\\mathcal{E}$, denominamos produto interno a operação bilinear $\\left<\\ast|\\ast\\right>$ sobre tal espaço de estados, que satisfaz as seguintes propriedades:\n",
    ">\n",
    ">   1. **(simetria conjugada).** $\\forall \\left|u\\right>, \\left|v\\right> \\in \\mathcal{E}: \\left<u|v\\right> = \\left<v|u\\right>^\\ast$.\n",
    ">   2. **(linearidade).** $\\forall \\left|u\\right>, \\left|v\\right>, \\left|w\\right> \\in \\mathcal{E}, \\alpha, \\beta \\in \\mathbb{C}: (\\alpha\\left<u\\right| + \\beta\\left<v\\right|)\\left|w\\right> = \\alpha\\left<u|w\\right> + \\beta\\left<v|w\\right>$.\n",
    ">   3. **(positividade).** $\\forall \\left|u\\right> \\in \\mathcal{E}:\\left<u|u\\right> \\ge 0$.\n",
    "\n",
    "Note que, devido à existência do produto interno, para qualquer estado $\\left|\\Psi\\right>$ num espaço de estados de um sistema quântico, podemos definir $\\left<\\Psi\\right| \\equiv \\left<\\Psi|\\ast\\right>$ o qual denominamos por *funcional linear*, e ao conjunto de todos os funcionais lineares definidos com base um espaço de estados $\\mathcal{E}$ damos o nome de espaço dual $\\mathcal{E}^\\ast$."
   ]
  },
  {
   "cell_type": "markdown",
   "id": "24a16db5",
   "metadata": {},
   "source": [
    "### Dinâmica de um sistema quântico\n",
    "\n",
    ">   **Segundo postulado da mecânica quântica.** Para todo sistema quântico isolado existem um único par de operadores $\\hat{\\mathbf{U}}(t)$, unitário, e $\\hat{\\mathbf{H}}(t)$, hermitiano, tais que este seguem a *equação de Schrödinger*:\n",
    ">   $$\n",
    ">       \\imath\\hbar\\partial_t\\hat{\\mathbf{U}}(t) = \\hat{\\mathbf{H}}(t)\\text{,}\n",
    ">   $$\n",
    ">   tal que, um estado físico $\\left|\\Psi_0\\right>$ do sistema após a passagem de um tempo $t$ estará num estado:\n",
    ">   $$\n",
    ">       \\left|\\Psi(t)\\right> = \\hat{\\mathbf{U}}(t)\\left|\\Psi_0\\right>\\text{.}\n",
    ">   $$"
   ]
  },
  {
   "cell_type": "markdown",
   "id": "4944c670",
   "metadata": {},
   "source": [
    "####    Operadores lineares"
   ]
  },
  {
   "cell_type": "markdown",
   "id": "a6e5e62f",
   "metadata": {},
   "source": [
    "####    Representações matriciais"
   ]
  },
  {
   "cell_type": "markdown",
   "id": "8f603e7d",
   "metadata": {},
   "source": [
    "##  Medições e medidas no regime quântico"
   ]
  },
  {
   "cell_type": "markdown",
   "id": "75c120dc",
   "metadata": {},
   "source": [
    ">   **Terceiro postulado da mecânica quântica.** Toda quantidade física mensurável $\\mathcal{Q}$ de um sistema quântico possui um operador observável $^{1}$ $\\hat{\\mathbf{Q}}$ que atua sobre o espaço de estados do sistema.\n",
    "\n",
    ">   **Quarto postulado da mecânica quântica.** Os possíveis resultados de uma medida de uma quantidade física mensurável $\\mathcal{Q}$ são os autovalores do seu operador observável associado.\n",
    "\n",
    ">   **Quinto postulado da mecânica quântica.** Imediatamente após a medição de uma quantidade física mensurável $\\mathcal{Q}$, o estado do sistema quântico é projetado sobre o autoespaço correspondente ao autovalor medido."
   ]
  },
  {
   "cell_type": "markdown",
   "id": "c132b9de",
   "metadata": {},
   "source": [
    "---\n",
    "\n",
    "1. Em dimensão finita, como as que trabalhamos neste repositório, os conceitos de operador observável e operador hermitiano são exatamente iguais."
   ]
  },
  {
   "cell_type": "markdown",
   "id": "8f6dba10",
   "metadata": {},
   "source": [
    "##  Formalismo do operador densidade"
   ]
  },
  {
   "cell_type": "markdown",
   "id": "1b1a238d",
   "metadata": {},
   "source": [
    "####    Traço parcial"
   ]
  },
  {
   "cell_type": "markdown",
   "id": "15d663a7",
   "metadata": {},
   "source": [
    "##  \n",
    "\n",
    "<div align=\"center\">\n",
    "\n",
    "![under construction](../under-construction.png)\n",
    "\n",
    "</div>"
   ]
  },
  {
   "cell_type": "markdown",
   "id": "06175663",
   "metadata": {},
   "source": [
    "##  Referências\n",
    "\n",
    "[1] *Nielsen, Michael A., e Isaac L. Chuang.* **Quantum computation and quantum information.**\n",
    "\n",
    "[2] *Cohen-Tannoudji, Claude, Bernard Diu, and Frank Laloe.* **Quantum mechanics, volume I.**\n",
    "\n",
    "[3] *Bouwmeester, Dirk, e Anton Zeilinger.* **The physics of quantum information: basic concepts.**\n",
    "\n",
    "---\n",
    "\n",
    "<div align=\"right\">\n",
    "\n",
    "[voltar ao sumário](./README.md)\n",
    "\n",
    "</div>"
   ]
  }
 ],
 "metadata": {
  "kernelspec": {
   "display_name": "base",
   "language": "python",
   "name": "python3"
  },
  "language_info": {
   "codemirror_mode": {
    "name": "ipython",
    "version": 3
   },
   "file_extension": ".py",
   "mimetype": "text/x-python",
   "name": "python",
   "nbconvert_exporter": "python",
   "pygments_lexer": "ipython3",
   "version": "3.12.9"
  }
 },
 "nbformat": 4,
 "nbformat_minor": 5
}
