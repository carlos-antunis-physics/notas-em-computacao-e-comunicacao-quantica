{
 "cells": [
  {
   "cell_type": "markdown",
   "id": "4fb3cfda",
   "metadata": {},
   "source": [
    "#   Aspectos fundamentais da teoria quântica\n",
    "\n",
    ">   Autor: [Carlos Antunis Bonfim da Silva Santos](https://github.com/carlos-antunis-physics/)"
   ]
  },
  {
   "cell_type": "markdown",
   "id": "a7939513",
   "metadata": {},
   "source": [
    "No regime quântico, diferentemente do que estamos habituados macroscopicamente, a natureza apresenta-se usualmente como um intenso borbulhar de possibilidades - sejam elas concordantes ou não. A verdade é que a percepção humana da realidade é extremamente limitada e naturalmente quaisquer equipamentos são incapazes de compreender em sua totalidade tal pulular de eventos.\n",
    "\n",
    "Neste apêndice trataremos de desmitificar como é o comportamento quântico da realidade, utilizando dos postulados da mecânica quântica para tornar mais clara tal estranheza apresentada pela natureza. Para isso, citando a divina comédia\n",
    "\n",
    ">   \"Deixai toda esperança, vós que entrais\"\n",
    "\n",
    "pois, para compreender verdadeiramente o comportamento quântico das partículas, devemos primeiramente abstrair todo e quaisquer conceitos prévios sobre a realidade que tenhamos e nos abster do viés que nos é posto pela experiência clássica."
   ]
  },
  {
   "cell_type": "code",
   "execution_count": null,
   "id": "11e7badf",
   "metadata": {},
   "outputs": [],
   "source": [
    "using PyCall\n",
    "PyCall.@pyimport sympy as sp\n",
    "\n",
    "alpha, beta, delta, gamma = sp.symbols(\"α β δ γ\");"
   ]
  },
  {
   "cell_type": "markdown",
   "id": "a938dc37",
   "metadata": {},
   "source": [
    "##  Descrição de estados quânticos"
   ]
  },
  {
   "cell_type": "markdown",
   "id": "22504b90",
   "metadata": {},
   "source": [
    "Mesmo a natureza quântica apresentando-se bizarra ao nosso senso, temos capacidade de conceber regras gerais, análogas ao que intuímos classicamente, que restrigem tal estranheza e põe uma certa ordem neste caos, sendo estas conhecidas como **postulados da mecânica quântica**, sendo estes um análogo às leis de Newton para o regime quântico.\n",
    "\n",
    "Para abordarmos o primeiro postulado da mecânica quântica, que se refere aos possíveis estados de um sistema quântico, necessitamos de um formalismo matemático suficientemente abstrato para descrever o que é estar, em simultâneo, em estados com comportamentos complemente distintos."
   ]
  },
  {
   "cell_type": "markdown",
   "id": "69a311a2",
   "metadata": {},
   "source": [
    "### Espaço de estados"
   ]
  },
  {
   "cell_type": "markdown",
   "id": "ba7b8c83",
   "metadata": {},
   "source": [
    "O formalismo utilizado para descrever tal conceito abstrato é o de espaço de Hilbert, que consiste numa família de entes matemáticos abstratos que consistem num espaço vetorial dotado de produto interno.\n",
    "\n",
    ">   **Espaço de Hilbert.** Todo espaço vetorial $\\mathbb{E}$ de operações $+$ (soma - atua como um `ou` lógico) e $\\cdot$ (produto - atua pesando os estados) e um produto interno $\\left<\\ast,\\ast\\right>$.\n",
    "\n",
    "é digno de nota que um espaço de estados é construído de modo a sempre ter estados que descrevem comportamentos disjuntos como tendo produto interno zero (dizemos que os estados da base canônica são ortogonais).\n",
    "\n",
    ">   **Exemplo 1. (estado de polarização de um fóton).** O espaço de estados de um fóton é gerado pela combinação linear de suas duas possíveis polarizações elementares $\\left|\\leftrightarrow\\right>$ (polarização horizontal) e $\\left|\\updownarrow\\right>$ (polarização vertical), ou seja, o estado mais geral $\\left|\\Psi\\right>$ de polarização de um fóton é dado como\n",
    ">   \n",
    ">   $$\n",
    ">       \\left|\\Psi\\right> = \\alpha \\left|\\leftrightarrow\\right> + \\beta \\left|\\updownarrow\\right>\\text{,}\n",
    ">   $$\n",
    ">   \n",
    ">   de modo que lê-se \"o estado do fóton é horizontalmente polarizado com uma amplitude $\\alpha$ de probabilidade ou verticalmente polarizado com uma amplitude $\\beta$ de probabilidade\" (note que amplitude de probabilidade não corresponde à probabilidade em si - posteriormente discorreremos sobre isso em mais detalhes).\n",
    "\n",
    "aqui podemos utilizar que para todo espaço vetorial (inclusive os espaços de estados), seus vetores podem ser representados numa forma matricial devido ao seu isomorfismo com o espaço vetorial das matrizes coluna."
   ]
  },
  {
   "cell_type": "code",
   "execution_count": 2,
   "id": "d3885393",
   "metadata": {},
   "outputs": [
    {
     "data": {
      "text/latex": [
       "$\\displaystyle \\left[\\begin{matrix}α\\\\β\\end{matrix}\\right]$"
      ],
      "text/plain": [
       "PyObject Matrix([\n",
       "[α],\n",
       "[β]])"
      ]
     },
     "metadata": {},
     "output_type": "display_data"
    }
   ],
   "source": [
    "#   Descrever a base canônica da polarização de um fóton\n",
    "ket_h = sp.Matrix([[1], [0]])\n",
    "ket_v = sp.Matrix([[0], [1]])\n",
    "\n",
    "#   Descrever um estado quântico com amplitudes de probabilidade de estar\n",
    "#   em cada estado de polarização\n",
    "ket_psi = (alpha * ket_h + beta * ket_v)\n",
    "\n",
    "display(ket_psi)"
   ]
  },
  {
   "cell_type": "markdown",
   "id": "d59a90e8",
   "metadata": {},
   "source": [
    "####    Espaços de estados de sistemas compostos\n",
    "\n",
    "No **Exemplo 1** representamos um sistema quântico com apenas um fóton, contudo, na vasta maioria das vezes há múltiplos entes físicos num sistema quântico. No entanto, nem sempre as informações sobre os entes físicos são separáveis (a exemplo do fenômeno quântico de emaranhamento, onde a informação de um sistema está intimamente conectada a de outro), mas ainda sim dependem dos constituintes, de modo que precisamos criar um meio de construir um espaço de estados mais elaborados com base nos seus constituintes.\n",
    "\n",
    ">   **Espaço tensor.** O espaço $\\mathbb{E} \\equiv \\mathbb{E}_1 \\otimes \\mathbb{E}_2$, onde $\\mathbb{E}_1$ e $\\mathbb{E}_2$ são dois espaços espaços de estados, gerado por todos os possíveis produtos tensores entre as bases canônicas de $\\mathbb{E}_1$ e $\\mathbb{E}_2$.\n",
    ">\n",
    ">   >   **Produto tensor.** a operação $\\left|a\\right> \\otimes \\left|b\\right>$ que resulta no estado coletivo $\\left|a,b\\right>$ (atua como um `e` lógico).\n",
    "\n",
    "ao efetuar o produto tensor, novamente define-se a nova base canônica de estados como ortogonal.\n",
    "\n",
    ">   **Exemplo 2. (estado coletivo de dois fótons).** Dado que o espaço de estados de cada fóton individual é gerado por cada uma das suas polarizações, o estado coletivo será a combinação de todas as possíveis configurações dos fótons, ou seja,\n",
    ">\n",
    ">   $$\n",
    ">       \\left|\\Psi\\right> = \\alpha\\left|\\leftrightarrow, \\leftrightarrow\\right> + \\beta\\left|\\leftrightarrow, \\updownarrow\\right> + \\delta\\left|\\updownarrow, \\leftrightarrow\\right> + \\gamma\\left|\\updownarrow, \\updownarrow\\right>\\text{,}\n",
    ">   $$\n",
    ">\n",
    ">   de modo que lê-se \"o estado dos fótons é de ambos estarem polarizados horizontalmente com uma amplitude de probabilidade $\\alpha$, ou horizontalmente e verticalmente com uma amplitude de probabilidade $\\beta$ ...\"."
   ]
  },
  {
   "cell_type": "code",
   "execution_count": 3,
   "id": "d9c57ee0",
   "metadata": {},
   "outputs": [
    {
     "data": {
      "text/latex": [
       "$\\displaystyle \\left[\\begin{matrix}α\\\\β\\\\δ\\\\γ\\end{matrix}\\right]$"
      ],
      "text/plain": [
       "PyObject [[α], [β], [δ], [γ]]"
      ]
     },
     "metadata": {},
     "output_type": "display_data"
    }
   ],
   "source": [
    "#   Descrever a base canônica de polarização de dois fótons\n",
    "ket_hh = sp.tensorproduct(ket_h, ket_h).reshape(4, 1)\n",
    "ket_hv = sp.tensorproduct(ket_h, ket_v).reshape(4, 1)\n",
    "ket_vh = sp.tensorproduct(ket_v, ket_h).reshape(4, 1)\n",
    "ket_vv = sp.tensorproduct(ket_v, ket_v).reshape(4, 1)\n",
    "\n",
    "#   Descrever um estado quântico com amplitudes de probabilidade de estar\n",
    "#   em cada par de estados de polarização\n",
    "ket_psi_coletivo = (alpha * ket_hh + beta * ket_hv + delta * ket_vh + gamma * ket_vv)\n",
    "\n",
    "display(ket_psi_coletivo)"
   ]
  },
  {
   "cell_type": "markdown",
   "id": "2a836d3b",
   "metadata": {},
   "source": [
    "###\n",
    "\n",
    "O primeiro postulado assume que, qualquer que seja o sistema quântico, ele pode ser descrito por um vetor de estado do espaço de estados. O estado é apenas uma entidade abstrata, não se referindo à nada mensurável fisicamente.\n",
    "\n",
    ">   **Primeiro postulado da mecânica quântica.** O estado de um sistema quântico isolado pode ser descrito, a qualquer tempo fixado $t$, por meio de um vetor de estado $\\left|\\Psi_t\\right>$ normalizado $\\left(\\left<\\Psi_t|\\Psi_t\\right> = 1\\right)$ que pertence a um espaço de estados $\\mathcal{E}$.\n",
    "\n",
    "Tal condição de normalização é de muita importância garantindo posteriormente que a probabilidade total de se estar em qualquer estado da base é sempre de $100\\%$."
   ]
  },
  {
   "cell_type": "markdown",
   "id": "b017e4eb",
   "metadata": {},
   "source": [
    "##  Evolução temporal de sistemas quânticos"
   ]
  },
  {
   "cell_type": "markdown",
   "id": "3e1a179a",
   "metadata": {},
   "source": [
    "Note que o primeiro primeiro postulado apenas requer que exista um estado definido a cada tempo fixado $t$, contudo em nada nos informa como este deve ser. Para sistemas quânticos, devido à restrição do estado quântico ser sempre normalizado, sua dinâmica não pode ser de qualquer forma. Porém, para identificarmos como descrever a dinâmica de estados quânticos ao longo do tempo, devemos primeiramente abordar os operadores lineares."
   ]
  },
  {
   "cell_type": "markdown",
   "id": "a6425b2e",
   "metadata": {},
   "source": [
    "### Operadores lineares"
   ]
  },
  {
   "cell_type": "markdown",
   "id": "776f1ff5",
   "metadata": {},
   "source": [
    "Podemos definir um operador linear como uma função linear $\\mathbf{\\hat{A}} : \\mathbb{E} \\rightarrow \\mathbb{E}$, de modo que pode ser expresso geralmente como uma combinação linear da base canônica precedida por certas funções que atuam sobre o estado:\n",
    "\n",
    "$$\n",
    "    \\mathbf{\\hat{A}} = \\sum_i f_i(\\ast) \\left|\\phi_i\\right>\\text{,}\n",
    "$$\n",
    "\n",
    "dado que podemos definir (resultado matemático de álgebra linear) para cada um dos funcionais lineares $f_i(\\ast) = \\left<u_i,\\ast\\right>$ definamos por notação $f_i = \\left<u_i\\right|$ (denominado covetor de $\\left|u_i\\right>$), de modo a termos, decompondo cada covetor na base canônica do espaço dual (espaço dos covetores associado ao espaço de estados):\n",
    "\n",
    "$$\n",
    "    \\mathbf{\\hat{A}} = \\sum_{i, j} \\alpha_{i, j} \\left|\\phi_i\\right>\\left<\\phi_j\\right|\\text{,}\n",
    "$$\n",
    "\n",
    "onde costumamos omitir $\\left|\\ast\\right>$ no final apenas por simplicidade. "
   ]
  },
  {
   "cell_type": "code",
   "execution_count": 19,
   "id": "1f62fe73",
   "metadata": {},
   "outputs": [
    {
     "data": {
      "text/latex": [
       "$\\displaystyle \\left[\\begin{matrix}1 & 0\\\\0 & 1\\end{matrix}\\right]$"
      ],
      "text/plain": [
       "PyObject Matrix([\n",
       "[1, 0],\n",
       "[0, 1]])"
      ]
     },
     "metadata": {},
     "output_type": "display_data"
    }
   ],
   "source": [
    "d = (i, j) -> i == j ? 1 : 0;       #  delta de Kronecker\n",
    "#   Computar o operador identidade\n",
    "_1 = sp.Matrix([[d(i,j) for i = 1:2] for j = 1:2])\n",
    "\n",
    "display(_1)"
   ]
  },
  {
   "cell_type": "markdown",
   "id": "3c3df13a",
   "metadata": {},
   "source": [
    "Os operadores lineares sobre quaisquer espaços de estados formam uma álgebra linear, tendo assim, três operações intrinsecamente definidas a eles ($+$, $\\cdot$ e $\\times$ - ademais ao $\\otimes$ que atua de modo a operar separado em cada espaço de estados)."
   ]
  },
  {
   "cell_type": "code",
   "execution_count": 49,
   "id": "d82a406d",
   "metadata": {},
   "outputs": [
    {
     "data": {
      "text/latex": [
       "$\\displaystyle \\left[\\begin{matrix}0 & 1\\\\1 & 0\\end{matrix}\\right]$"
      ],
      "text/plain": [
       "PyObject Matrix([\n",
       "[0, 1],\n",
       "[1, 0]])"
      ]
     },
     "metadata": {},
     "output_type": "display_data"
    }
   ],
   "source": [
    "#   Computar os covetores da base canônica de polarização\n",
    "bra_v = ket_v.H\n",
    "bra_h = ket_h.H\n",
    "\n",
    "#   Descrever o operador de uma placa de meia-onda a a 0°\n",
    "HWP = ket_h * bra_h - ket_v * bra_v\n",
    "\n",
    "#   Descrever o operador de rotação\n",
    "R = alpha -> (sp.cos(alpha) * _1 + sp.sin(alpha) * (ket_h * bra_v - ket_v * bra_h))\n",
    "\n",
    "#   Descrever o operador de uma placa de meia-onda a 45°\n",
    "display(R(-sp.pi / 4) * HWP * R(sp.pi / 4)) #   Pauli-X\n"
   ]
  },
  {
   "cell_type": "markdown",
   "id": "edc603d1",
   "metadata": {},
   "source": [
    "###\n",
    "\n",
    "Uma classe especial de operadores para a mecânica quântica são os operadores unitários, operadores tais que\n",
    "\n",
    "$$\n",
    "    \\left<\\psi\\right|\\mathbf{\\hat{U}}^\\dagger\\mathbf{\\hat{U}}\\left|\\psi\\right> = \\left<\\psi|\\psi\\right>\\text{,}\n",
    "$$\n",
    "\n",
    "de modo que permitem descrever operações que atuam num estado quântico sem que quebrem a sua normalização, onde $\\dagger$ denota o conjugado hermitiano (obtido ao transpor e conjugar as entradas do operador). Daqui em diante trataremos os operadores unitários como um grupo contínuo, dado que para os propósitos aqui apenas composições nos são relevantes.\n",
    "\n",
    "Mediante a definição de operadores unitários, é razoável a nós postular que qualquer processo quântico atua de forma a alterar um estado quântico (é um operador linear) e preserva a condição de normalização (é unitário), incluindo a evolução temporal.\n",
    "\n",
    ">   **Segundo postulado da mecânica quântica.** Para todo sistema quântico isolado, existe uma família de operadores unitários $\\hat{\\mathbf{U}}(t)$ que a cada tempo fixado $t$ define a evolução temporal do sistema.\n",
    ">\n",
    ">   $$\n",
    ">       \\left|\\Psi(t)\\right> = \\hat{\\mathbf{U}}(t) \\left|\\Psi_0\\right>\\text{.}\n",
    ">   $$\n",
    "\n",
    "Ademais aos operadores unitários, outra classe de operadores (que é também sua álgebra de geradores infintesimais) é a dos operadores hermitianos. Dizemos que um operador apresenta hermiticidade caso\n",
    "\n",
    "$$\n",
    "    \\mathbf{\\hat{H}}^\\dagger = \\mathbf{\\hat{H}}\\text{,}\n",
    "$$\n",
    "\n",
    "de modo que, utilizando o teorema de Stones, e com um pouco de álgebra podemos chegar à equação de Schrödinger:\n",
    "\n",
    "$$\n",
    "    \\jmath \\hbar \\partial_t \\left|\\Psi(t)\\right> = \\mathbf{\\hat{H}} \\left|\\Psi(t)\\right>\\text{,}\n",
    "$$\n",
    "\n",
    "formalmente não é a equação de Schrödinger pois não demonstramos que o operador hermitiano é o hamiltoniano exatamente e não demonstramos tal validade para o caso de hamiltonianos dependentes do tempo\n"
   ]
  },
  {
   "cell_type": "markdown",
   "id": "c4a09f20",
   "metadata": {},
   "source": [
    "##  Medidas e medições em sistemas quânticos"
   ]
  },
  {
   "cell_type": "markdown",
   "id": "7b1deda6",
   "metadata": {},
   "source": [
    "###\n",
    "\n",
    "Dado, que como já foi discutido, o estado quântico nada mais é do que um ente matemático abstrato apenas utilizado para representar a natureza, devemos introduzir o que verdadeiramente é experimentado na realidade - as quantidades físicas. Toda quantidade física consiste numa função de como está um sistema físico de modo que ao atuar num estado retorna o seu valor e o estado físico correspondente ($\\mathbf{\\hat{A}}\\left|\\psi\\right> = a\\left|\\psi\\right>$), tal valor tem de ser evaluado como uma quantidade numérica real, ademais deve ter por estados mensuráveis (estados que é possível definir a quantidade com fidelidade) completamente distinguíveis entre si (formar uma base ortogonal) - a operadores com autoespaços com tais características damos o nome de operadores observáveis.\n",
    "\n",
    ">   **Terceiro postulado da mecânica quântica.** Toda quantidade física mensurável de um sistema quântico, possui a si associada um operador observável que atua sobre o espaço de estados do sistema e que possui por possíveis medidas físicas os seus autovalores.\n",
    "\n",
    "É importante salientar que para o caso de dimensão finita, o conceito de operador observável e hermitiano são idênticos e portanto podemos tomar medidas como operadores hermitianos nos casos mais elementares (aqueles relevantes a essas notas de aula)."
   ]
  },
  {
   "cell_type": "markdown",
   "id": "a519bc08",
   "metadata": {},
   "source": [
    "###\n",
    "\n",
    "Ademais, ao efetuarmos efetivamente a medição de uma quantidade física esta deve ser coerente com o estado quântico, ou seja, o estado deve possuir apenas estados que o componham de maneira adequada ao valor aferido no processo de medição.\n",
    "\n",
    ">   **Quarto postulado da mecânica quântica.** Imediatamente após toda e qualquer medição de uma quantidade física, o estado do sistema é projetado sobre o autoespaço associado ao autovalor medido.\n",
    "\n",
    "Esse processo de projeção do vetor de estado num autoespaço associado ao autovalor (eliminar as componentes inconsistentes com a medida e renormalizar o estado) é conhecida como o fenômeno de colapso da função de onda."
   ]
  },
  {
   "cell_type": "markdown",
   "id": "37c1e80e",
   "metadata": {},
   "source": [
    "##  Referências\n",
    "\n",
    "[1] *Nielsen, Michael A., e Isaac L. Chuang.* **Quantum computation and quantum information.**\n",
    "\n",
    "[2] *Cohen-Tannoudji, Claude, Bernard Diu, and Frank Laloe.* **Quantum mechanics, volume I.**\n",
    "\n",
    "[3] *Bouwmeester, Dirk, e Anton Zeilinger.* **The physics of quantum information: basic concepts.**\n",
    "\n",
    "---\n",
    "\n",
    "<div align=\"right\">\n",
    "\n",
    "[voltar ao sumário](../README.md)\n",
    "\n",
    "</div>"
   ]
  }
 ],
 "metadata": {
  "kernelspec": {
   "display_name": "Julia 1.11.5",
   "language": "julia",
   "name": "julia-1.11"
  },
  "language_info": {
   "file_extension": ".jl",
   "mimetype": "application/julia",
   "name": "julia",
   "version": "1.11.5"
  }
 },
 "nbformat": 4,
 "nbformat_minor": 5
}
