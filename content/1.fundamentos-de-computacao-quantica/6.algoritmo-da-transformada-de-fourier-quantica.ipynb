{
 "cells": [
  {
   "cell_type": "markdown",
   "id": "d5a297bc",
   "metadata": {},
   "source": [
    "#   Algoritmo da transformada de Fourier quântica\n",
    "\n",
    ">   Autor: [Carlos Antunis Bonfim da Silva Santos](https://github.com/carlos-antunis-physics/)"
   ]
  },
  {
   "cell_type": "markdown",
   "id": "9b20e0cc",
   "metadata": {},
   "source": [
    "\n",
    "<div align=\"center\">\n",
    "\n",
    "![under construction image](../../under-construction.png)\n",
    "\n",
    "</div>"
   ]
  },
  {
   "cell_type": "markdown",
   "id": "5ff64b6d",
   "metadata": {},
   "source": [
    "---\n",
    "\n",
    "<div align=\"right\">\n",
    "\n",
    "[voltar ao sumário](./README.md)\n",
    "\n",
    "</div>"
   ]
  }
 ],
 "metadata": {
  "language_info": {
   "name": "python"
  }
 },
 "nbformat": 4,
 "nbformat_minor": 5
}
