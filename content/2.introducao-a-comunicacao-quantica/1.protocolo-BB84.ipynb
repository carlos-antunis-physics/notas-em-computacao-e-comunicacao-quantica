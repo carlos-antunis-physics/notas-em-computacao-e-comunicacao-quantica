{
 "cells": [
  {
   "cell_type": "markdown",
   "id": "3e69c28e",
   "metadata": {},
   "source": [
    "#   Protocolo BB84\n",
    "\n",
    ">   Autor: [Carlos Antunis Bonfim da Silva Santos](https://github.com/carlos-antunis-physics/)"
   ]
  },
  {
   "cell_type": "markdown",
   "id": "bdcbbecd",
   "metadata": {},
   "source": [
    "\n",
    "<div align=\"center\">\n",
    "\n",
    "![under construction image](../../under-construction.png)\n",
    "\n",
    "</div>"
   ]
  },
  {
   "cell_type": "markdown",
   "id": "1fa5da18",
   "metadata": {},
   "source": [
    "---\n",
    "\n",
    "<div align=\"right\">\n",
    "\n",
    "[voltar ao sumário](./README.md)\n",
    "\n",
    "</div>"
   ]
  }
 ],
 "metadata": {
  "kernelspec": {
   "display_name": "Julia 1.11.5",
   "language": "julia",
   "name": "julia-1.11"
  },
  "language_info": {
   "name": "julia"
  }
 },
 "nbformat": 4,
 "nbformat_minor": 5
}
