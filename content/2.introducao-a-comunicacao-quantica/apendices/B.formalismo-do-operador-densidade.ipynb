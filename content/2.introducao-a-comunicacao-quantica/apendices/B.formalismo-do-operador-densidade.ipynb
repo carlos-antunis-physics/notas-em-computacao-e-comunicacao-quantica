{
 "cells": [
  {
   "cell_type": "markdown",
   "id": "4dfe9e36",
   "metadata": {},
   "source": [
    "#   Formalismo do operador densidade\n",
    "\n",
    ">   Autor: [Carlos Antunis Bonfim da Silva Santos](https://github.com/carlos-antunis-physics/)"
   ]
  },
  {
   "cell_type": "markdown",
   "id": "893d51db",
   "metadata": {},
   "source": [
    "\n",
    "<div align=\"center\">\n",
    "\n",
    "![under construction image](../../../under-construction.png)\n",
    "\n",
    "</div>"
   ]
  },
  {
   "cell_type": "markdown",
   "id": "0de32ef3",
   "metadata": {},
   "source": [
    "---\n",
    "\n",
    "<div align=\"right\">\n",
    "\n",
    "[voltar ao sumário](../README.md)\n",
    "\n",
    "</div>"
   ]
  }
 ],
 "metadata": {
  "language_info": {
   "name": "python"
  }
 },
 "nbformat": 4,
 "nbformat_minor": 5
}
